{
 "cells": [
  {
   "cell_type": "markdown",
   "metadata": {},
   "source": [
    "### Write a class with name `Time`, and define a function with name `printTime` that prints hours, minutes and seconds.\n"
   ]
  },
  {
   "cell_type": "code",
   "execution_count": null,
   "metadata": {},
   "outputs": [],
   "source": []
  },
  {
   "cell_type": "markdown",
   "metadata": {},
   "source": [
    "### Now, make `printTime` a method of a class.\n"
   ]
  },
  {
   "cell_type": "code",
   "execution_count": null,
   "metadata": {},
   "outputs": [],
   "source": []
  },
  {
   "cell_type": "markdown",
   "metadata": {},
   "source": [
    "### Define a method `increment` that takes a value in terms of seconds and increments the time.\n"
   ]
  },
  {
   "cell_type": "code",
   "execution_count": null,
   "metadata": {},
   "outputs": [],
   "source": []
  },
  {
   "cell_type": "markdown",
   "metadata": {},
   "source": [
    "### Define a method `after` that takes another Time object and return True if current time is later than the input time.\n"
   ]
  },
  {
   "cell_type": "code",
   "execution_count": null,
   "metadata": {},
   "outputs": [],
   "source": []
  },
  {
   "cell_type": "markdown",
   "metadata": {},
   "source": [
    "### Initialize the `Time` class so that it takes hours, minutes and seconds and creates attributes for each. Set the detault values to 0.\n"
   ]
  },
  {
   "cell_type": "code",
   "execution_count": null,
   "metadata": {},
   "outputs": [],
   "source": []
  },
  {
   "cell_type": "markdown",
   "metadata": {},
   "source": [
    "### Write a `Point` class that takes x and y values and overwrite the print method so that the class prints (x, y) when called. The default values are 0.\n"
   ]
  },
  {
   "cell_type": "code",
   "execution_count": null,
   "metadata": {},
   "outputs": [],
   "source": []
  },
  {
   "cell_type": "markdown",
   "metadata": {},
   "source": [
    "### Write a method for class `Point` that overwrites + so that it takes another `Point` class and return a class whose x and y values are summation of x and y attributes of two classes, respectively.\n"
   ]
  },
  {
   "cell_type": "code",
   "execution_count": null,
   "metadata": {},
   "outputs": [],
   "source": []
  },
  {
   "cell_type": "markdown",
   "metadata": {},
   "source": [
    "### Write a method for class `Point` that overwrites \\* operator and returns dot product of two points.\n"
   ]
  },
  {
   "cell_type": "code",
   "execution_count": null,
   "metadata": {},
   "outputs": [],
   "source": []
  },
  {
   "cell_type": "markdown",
   "metadata": {},
   "source": [
    "## Card Objects:\n"
   ]
  },
  {
   "cell_type": "markdown",
   "metadata": {},
   "source": [
    "There are 52 cards in a deck, each of which belongs to one of four suits and one of 13 ranks.\n",
    "\n",
    "The suits are Spades, Hearts, Diamonds, and Clubs (in descending order in bridge).\n",
    "The ranks are Ace, 2, 3, 4, 5, 6, 7, 8, 9, 10, Jack, Queen, and King.\n"
   ]
  },
  {
   "cell_type": "markdown",
   "metadata": {},
   "source": [
    "If we want to define a new object to represent a playing card, it should have attributes for rank and suit.\n"
   ]
  },
  {
   "cell_type": "markdown",
   "metadata": {},
   "source": [
    "Should we use strings? Numbers?\n",
    "\n",
    "Ans: Numbers!\n"
   ]
  },
  {
   "cell_type": "markdown",
   "metadata": {},
   "source": [
    "Encoding:\n",
    "\n",
    "- Spades => 3\n",
    "- Hearts => 2\n",
    "- Diamonds => 1\n",
    "- Clubs => 0\n",
    "\n",
    "- Ace => 1\n",
    "- Jack => 11\n",
    "- Queen => 12\n",
    "- King => 13\n"
   ]
  },
  {
   "cell_type": "markdown",
   "metadata": {},
   "source": [
    "### Define a class `Card` that takes `suit` and `rank` as input and creates attributes for those. The default values for `suit` is 0 and for `rank` is 2.\n"
   ]
  },
  {
   "cell_type": "code",
   "execution_count": 44,
   "metadata": {},
   "outputs": [],
   "source": [
    "class Card:\n",
    "    def __init__(self, suit=0, rank=2):\n",
    "        self.suit = suit\n",
    "        self.rank = rank\n",
    "\n",
    "\n",
    "c1 = Card(3, 3)  # 3 of spades\n"
   ]
  },
  {
   "cell_type": "markdown",
   "metadata": {},
   "source": [
    "### Overwrite `print` method so that people can easily read the card such as: 6 of Clubs, King of Diamonds.\n"
   ]
  },
  {
   "cell_type": "code",
   "execution_count": 45,
   "metadata": {},
   "outputs": [
    {
     "name": "stdout",
     "output_type": "stream",
     "text": [
      "Jack of Diamonds\n"
     ]
    }
   ],
   "source": [
    "class Card:\n",
    "    suit_list = [\"Clubs\", \"Diamonds\", \"Hearts\", \"Spades\"]\n",
    "    rank_list = [\"None\", \"Ace\", \"2\", \"3\", \"4\", \"5\", \"6\", \"7\",\n",
    "                 \"8\", \"9\", \"10\", \"Jack\", \"Queen\", \"King\"]  # ignoring Joker\n",
    "\n",
    "    def __init__(self, suit=0, rank=2):\n",
    "        self.suit = suit\n",
    "        self.rank = rank\n",
    "\n",
    "    def __str__(self):\n",
    "        # the blank of blank\n",
    "        return (self.rank_list[self.rank] + \" of \" + self.suit_list[self.suit])\n",
    "\n",
    "\n",
    "my_card = Card(1, 11)  # Jack of Diamonds\n",
    "print(my_card)\n"
   ]
  },
  {
   "cell_type": "markdown",
   "metadata": {},
   "source": [
    "### Overwrite `__gt__` and `__eq__` that compares `self` and `other`. Assume `suit` is more important than `rank`.\n"
   ]
  },
  {
   "cell_type": "code",
   "execution_count": 46,
   "metadata": {},
   "outputs": [
    {
     "name": "stdout",
     "output_type": "stream",
     "text": [
      "True\n",
      "False\n"
     ]
    }
   ],
   "source": [
    "class Card:\n",
    "    suit_list = [\"Clubs\", \"Diamonds\", \"Hearts\", \"Spades\"]\n",
    "    rank_list = [\"None\", \"Ace\", \"2\", \"3\", \"4\", \"5\", \"6\", \"7\",\n",
    "                 \"8\", \"9\", \"10\", \"Jack\", \"Queen\", \"King\"]  # ignoring Joker\n",
    "\n",
    "    def __init__(self, suit=0, rank=2):\n",
    "        self.suit = suit\n",
    "        self.rank = rank\n",
    "\n",
    "    def __str__(self):\n",
    "        # the blank of blank\n",
    "        return (self.rank_list[self.rank] + \" of \" + self.suit_list[self.suit])\n",
    "\n",
    "    def __eq__(self, other):\n",
    "        # are the suits and ranks the same?\n",
    "        return (self.suit == other.suit and self.rank == other.rank)\n",
    "\n",
    "    def __gt__(self, other):\n",
    "        if self.suit > other.suit:  # if a suit is greater than another suit\n",
    "            return True\n",
    "        elif self.suit == other.suit:  # if the suits are the same\n",
    "            if self.rank > other.rank:  # if the rank is greater than the other rank\n",
    "                return True\n",
    "            else:  # if the rank is less than or equal to the other rank\n",
    "                return False\n",
    "        else:  # if the suit is less than the other suit\n",
    "            return False\n",
    "\n",
    "\n",
    "c1 = Card(3, 5)  # 11 of spades\n",
    "c2 = Card(3, 5)  # 5 of spades\n",
    "\n",
    "print(c1 == c2)  # True\n",
    "print(c1 > c2)  # False\n"
   ]
  },
  {
   "cell_type": "markdown",
   "metadata": {},
   "source": [
    "### Define a class `Deck` that has the attribute cards and the initialization generates 52 cards.\n"
   ]
  },
  {
   "cell_type": "code",
   "execution_count": 47,
   "metadata": {},
   "outputs": [
    {
     "data": {
      "text/plain": [
       "52"
      ]
     },
     "execution_count": 47,
     "metadata": {},
     "output_type": "execute_result"
    }
   ],
   "source": [
    "class Deck:\n",
    "    def __init__(self):  # initialize the deck\n",
    "        self.cards = []  # empty list\n",
    "        for suit in range(4):  # for each suit\n",
    "            for rank in range(1, 14):  # for each rank\n",
    "                self.cards.append(Card(suit, rank))  # add a card to the deck\n",
    "\n",
    "\n",
    "d = Deck()  # create a deck\n",
    "len(d.cards)  # 52\n"
   ]
  },
  {
   "cell_type": "markdown",
   "metadata": {},
   "source": []
  },
  {
   "cell_type": "markdown",
   "metadata": {},
   "source": [
    "### Overwrite `print` method to print the contents of the deck so that each card is indented one space more than the previous card.\n"
   ]
  },
  {
   "cell_type": "code",
   "execution_count": 48,
   "metadata": {},
   "outputs": [
    {
     "name": "stdout",
     "output_type": "stream",
     "text": [
      "Ace of Clubs\n",
      " 2 of Clubs\n",
      "  3 of Clubs\n",
      "   4 of Clubs\n",
      "    5 of Clubs\n",
      "     6 of Clubs\n",
      "      7 of Clubs\n",
      "       8 of Clubs\n",
      "        9 of Clubs\n",
      "         10 of Clubs\n",
      "          Jack of Clubs\n",
      "           Queen of Clubs\n",
      "            King of Clubs\n",
      "             Ace of Diamonds\n",
      "              2 of Diamonds\n",
      "               3 of Diamonds\n",
      "                4 of Diamonds\n",
      "                 5 of Diamonds\n",
      "                  6 of Diamonds\n",
      "                   7 of Diamonds\n",
      "                    8 of Diamonds\n",
      "                     9 of Diamonds\n",
      "                      10 of Diamonds\n",
      "                       Jack of Diamonds\n",
      "                        Queen of Diamonds\n",
      "                         King of Diamonds\n",
      "                          Ace of Hearts\n",
      "                           2 of Hearts\n",
      "                            3 of Hearts\n",
      "                             4 of Hearts\n",
      "                              5 of Hearts\n",
      "                               6 of Hearts\n",
      "                                7 of Hearts\n",
      "                                 8 of Hearts\n",
      "                                  9 of Hearts\n",
      "                                   10 of Hearts\n",
      "                                    Jack of Hearts\n",
      "                                     Queen of Hearts\n",
      "                                      King of Hearts\n",
      "                                       Ace of Spades\n",
      "                                        2 of Spades\n",
      "                                         3 of Spades\n",
      "                                          4 of Spades\n",
      "                                           5 of Spades\n",
      "                                            6 of Spades\n",
      "                                             7 of Spades\n",
      "                                              8 of Spades\n",
      "                                               9 of Spades\n",
      "                                                10 of Spades\n",
      "                                                 Jack of Spades\n",
      "                                                  Queen of Spades\n",
      "                                                   King of Spades\n",
      "\n"
     ]
    }
   ],
   "source": [
    "class Deck:\n",
    "    def __init__(self):  # initialize the deck\n",
    "        self.cards = []  # empty list\n",
    "        for suit in range(4):  # for each suit\n",
    "            for rank in range(1, 14):  # for each rank\n",
    "                self.cards.append(Card(suit, rank))  # add a card to the deck\n",
    "\n",
    "    def __str__(self):  # print the deck\n",
    "        s = \"\"  # empty string\n",
    "        for i in range(len(self.cards)):  # for each card in the deck\n",
    "            # add the card to the string\n",
    "            s += i * \" \" + str(self.cards[i]) + \"\\n\"\n",
    "        return s\n",
    "\n",
    "\n",
    "d = Deck()  # create a deck\n",
    "print(d)  # print the deck\n"
   ]
  },
  {
   "cell_type": "markdown",
   "metadata": {},
   "source": [
    "### Write a method `shuffle` that shuffles the cards in a deck. You can use `randrange` from `random` module.\n"
   ]
  },
  {
   "cell_type": "code",
   "execution_count": 49,
   "metadata": {},
   "outputs": [
    {
     "data": {
      "text/plain": [
       "4"
      ]
     },
     "execution_count": 49,
     "metadata": {},
     "output_type": "execute_result"
    }
   ],
   "source": [
    "import random\n",
    "\n",
    "random.randrange(1, 9)  # random int number between 1 and 8\n"
   ]
  },
  {
   "cell_type": "code",
   "execution_count": 50,
   "metadata": {},
   "outputs": [
    {
     "name": "stdout",
     "output_type": "stream",
     "text": [
      "Ace of Clubs\n",
      " 2 of Clubs\n",
      "  3 of Clubs\n",
      "   4 of Clubs\n",
      "    5 of Clubs\n",
      "     6 of Clubs\n",
      "      7 of Clubs\n",
      "       8 of Clubs\n",
      "        9 of Clubs\n",
      "         10 of Clubs\n",
      "          Jack of Clubs\n",
      "           Queen of Clubs\n",
      "            King of Clubs\n",
      "             Ace of Diamonds\n",
      "              2 of Diamonds\n",
      "               3 of Diamonds\n",
      "                4 of Diamonds\n",
      "                 5 of Diamonds\n",
      "                  6 of Diamonds\n",
      "                   7 of Diamonds\n",
      "                    8 of Diamonds\n",
      "                     9 of Diamonds\n",
      "                      10 of Diamonds\n",
      "                       Jack of Diamonds\n",
      "                        Queen of Diamonds\n",
      "                         King of Diamonds\n",
      "                          Ace of Hearts\n",
      "                           2 of Hearts\n",
      "                            3 of Hearts\n",
      "                             4 of Hearts\n",
      "                              5 of Hearts\n",
      "                               6 of Hearts\n",
      "                                7 of Hearts\n",
      "                                 8 of Hearts\n",
      "                                  9 of Hearts\n",
      "                                   10 of Hearts\n",
      "                                    Jack of Hearts\n",
      "                                     Queen of Hearts\n",
      "                                      King of Hearts\n",
      "                                       Ace of Spades\n",
      "                                        2 of Spades\n",
      "                                         3 of Spades\n",
      "                                          4 of Spades\n",
      "                                           5 of Spades\n",
      "                                            6 of Spades\n",
      "                                             7 of Spades\n",
      "                                              8 of Spades\n",
      "                                               9 of Spades\n",
      "                                                10 of Spades\n",
      "                                                 Jack of Spades\n",
      "                                                  Queen of Spades\n",
      "                                                   King of Spades\n",
      "\n",
      "4 of Spades\n",
      " King of Clubs\n",
      "  10 of Diamonds\n",
      "   3 of Clubs\n",
      "    3 of Diamonds\n",
      "     Queen of Hearts\n",
      "      Jack of Clubs\n",
      "       3 of Spades\n",
      "        10 of Hearts\n",
      "         Ace of Hearts\n",
      "          8 of Spades\n",
      "           6 of Spades\n",
      "            7 of Spades\n",
      "             Ace of Spades\n",
      "              Jack of Spades\n",
      "               7 of Diamonds\n",
      "                5 of Clubs\n",
      "                 9 of Diamonds\n",
      "                  6 of Hearts\n",
      "                   4 of Hearts\n",
      "                    2 of Clubs\n",
      "                     9 of Spades\n",
      "                      9 of Clubs\n",
      "                       Ace of Clubs\n",
      "                        8 of Clubs\n",
      "                         5 of Hearts\n",
      "                          King of Hearts\n",
      "                           4 of Diamonds\n",
      "                            Jack of Hearts\n",
      "                             2 of Spades\n",
      "                              4 of Clubs\n",
      "                               Queen of Spades\n",
      "                                6 of Diamonds\n",
      "                                 6 of Clubs\n",
      "                                  5 of Diamonds\n",
      "                                   10 of Clubs\n",
      "                                    Queen of Clubs\n",
      "                                     9 of Hearts\n",
      "                                      Queen of Diamonds\n",
      "                                       King of Diamonds\n",
      "                                        7 of Hearts\n",
      "                                         3 of Hearts\n",
      "                                          Ace of Diamonds\n",
      "                                           2 of Diamonds\n",
      "                                            Jack of Diamonds\n",
      "                                             8 of Hearts\n",
      "                                              10 of Spades\n",
      "                                               5 of Spades\n",
      "                                                2 of Hearts\n",
      "                                                 8 of Diamonds\n",
      "                                                  King of Spades\n",
      "                                                   7 of Clubs\n",
      "\n"
     ]
    }
   ],
   "source": [
    "import random\n",
    "\n",
    "\n",
    "class Deck:\n",
    "    def __init__(self):  # initialize the deck\n",
    "        self.cards = []  # empty list\n",
    "        for suit in range(4):  # for each suit\n",
    "            for rank in range(1, 14):  # for each rank\n",
    "                self.cards.append(Card(suit, rank))  # add a card to the deck\n",
    "\n",
    "    def __str__(self):  # print the deck\n",
    "        s = \"\"  # empty string\n",
    "        for i in range(len(self.cards)):  # for each card in the deck\n",
    "            # add the card to the string\n",
    "            s += i * \" \" + str(self.cards[i]) + \"\\n\"\n",
    "        return s\n",
    "\n",
    "    def shuffle(self):  # shuffle the deck\n",
    "        n_cards = len(self.cards)  # number of cards in the deck\n",
    "        for i in range(n_cards):  # for each card in the deck\n",
    "            # pick a random card to swap with\n",
    "            j = random.randrange(i, n_cards)\n",
    "            # swap the cards\n",
    "            self.cards[i], self.cards[j] = self.cards[j], self.cards[i]\n",
    "\n",
    "\n",
    "d = Deck()  # create a deck\n",
    "print(d)  # print the deck\n",
    "d.shuffle()  # shuffle the deck\n",
    "print(d)  # print the deck\n",
    "\n"
   ]
  },
  {
   "cell_type": "markdown",
   "metadata": {},
   "source": [
    "### Write method `pop_card` that removes the last card in the deck.\n"
   ]
  },
  {
   "cell_type": "code",
   "execution_count": 51,
   "metadata": {},
   "outputs": [],
   "source": [
    "import random\n",
    "\n",
    "\n",
    "class Deck:\n",
    "    def __init__(self):  # initialize the deck\n",
    "        self.cards = []  # empty list\n",
    "        for suit in range(4):  # for each suit\n",
    "            for rank in range(1, 14):  # for each rank\n",
    "                self.cards.append(Card(suit, rank))  # add a card to the deck\n",
    "\n",
    "    def __str__(self):  # print the deck\n",
    "        s = \"\"  # empty string\n",
    "        for i in range(len(self.cards)):  # for each card in the deck\n",
    "            # add the card to the string\n",
    "            s += i * \" \" + str(self.cards[i]) + \"\\n\"\n",
    "        return s\n",
    "\n",
    "    def shuffle(self):  # shuffle the deck\n",
    "        n_cards = len(self.cards)  # number of cards in the deck\n",
    "        for i in range(n_cards):  # for each card in the deck\n",
    "            # pick a random card to swap with\n",
    "            j = random.randrange(i, n_cards)\n",
    "            # swap the cards\n",
    "            self.cards[i], self.cards[j] = self.cards[j], self.cards[i]\n",
    "\n",
    "    def pop_card(self):\n",
    "        return self.cards.pop()"
   ]
  },
  {
   "cell_type": "code",
   "execution_count": 52,
   "metadata": {},
   "outputs": [
    {
     "data": {
      "text/plain": [
       "3"
      ]
     },
     "execution_count": 52,
     "metadata": {},
     "output_type": "execute_result"
    }
   ],
   "source": [
    "L = [1, 2, 3]\n",
    "L.pop()  # 3"
   ]
  },
  {
   "cell_type": "code",
   "execution_count": null,
   "metadata": {},
   "outputs": [],
   "source": []
  },
  {
   "cell_type": "markdown",
   "metadata": {},
   "source": [
    "### Write a method `is_empty` which returns True if the deck contains no cards.\n"
   ]
  },
  {
   "cell_type": "code",
   "execution_count": 53,
   "metadata": {},
   "outputs": [],
   "source": [
    "import random\n",
    "\n",
    "\n",
    "class Deck:\n",
    "    def __init__(self):  # initialize the deck\n",
    "        self.cards = []  # empty list\n",
    "        for suit in range(4):  # for each suit\n",
    "            for rank in range(1, 14):  # for each rank\n",
    "                self.cards.append(Card(suit, rank))  # add a card to the deck\n",
    "\n",
    "    def __str__(self):  # print the deck\n",
    "        s = \"\"  # empty string\n",
    "        for i in range(len(self.cards)):  # for each card in the deck\n",
    "            # add the card to the string\n",
    "            s += i * \" \" + str(self.cards[i]) + \"\\n\"\n",
    "        return s\n",
    "\n",
    "    def shuffle(self):  # shuffle the deck\n",
    "        n_cards = len(self.cards)  # number of cards in the deck\n",
    "        for i in range(n_cards):  # for each card in the deck\n",
    "            # pick a random card to swap with\n",
    "            j = random.randrange(i, n_cards)\n",
    "            # swap the cards\n",
    "            self.cards[i], self.cards[j] = self.cards[j], self.cards[i]\n",
    "\n",
    "    def pop_card(self):\n",
    "        return self.cards.pop()\n",
    "    \n",
    "    def is_empty(self):\n",
    "        return len(self.cards) == 0\n"
   ]
  },
  {
   "cell_type": "markdown",
   "metadata": {},
   "source": [
    "### Write a class for hand that is similar to a deck but we might want to perform operations for hand that don't make sense for deck.\n"
   ]
  },
  {
   "cell_type": "code",
   "execution_count": 54,
   "metadata": {},
   "outputs": [],
   "source": [
    "class Hand(Deck):\n",
    "  pass"
   ]
  },
  {
   "cell_type": "markdown",
   "metadata": {},
   "source": [
    "### Initialize the `Hand` with cards and names where name will be an input and default value is \"\".\n"
   ]
  },
  {
   "cell_type": "code",
   "execution_count": 55,
   "metadata": {},
   "outputs": [],
   "source": [
    "class Hand(Deck):\n",
    "    def __init__(self, name=\"\"):\n",
    "        self.cards = [] # empty list\n",
    "        self.name = name # name of the hand"
   ]
  },
  {
   "cell_type": "markdown",
   "metadata": {},
   "source": [
    "### Write a method `add_card` that adds a card to the Hand.\n"
   ]
  },
  {
   "cell_type": "code",
   "execution_count": 56,
   "metadata": {},
   "outputs": [],
   "source": [
    "class Hand(Deck):\n",
    "    def __init__(self, name=\"\"):\n",
    "        self.cards = [] # empty list\n",
    "        self.name = name # name of the hand\n",
    "    \n",
    "    def add_card(self, card): # add a card to the hand\n",
    "        self.cards.append(card) # add the card to the list"
   ]
  },
  {
   "cell_type": "markdown",
   "metadata": {},
   "source": [
    "### Write a method for `Deck` class that deals the card into hands. It takes two arguments: hands and number of cards.\n"
   ]
  },
  {
   "cell_type": "code",
   "execution_count": 66,
   "metadata": {},
   "outputs": [],
   "source": [
    "import random\n",
    "\n",
    "\n",
    "class Deck:\n",
    "    def __init__(self):  # initialize the deck\n",
    "        self.cards = []  # empty list\n",
    "        for suit in range(4):  # for each suit\n",
    "            for rank in range(1, 14):  # for each rank\n",
    "                self.cards.append(Card(suit, rank))  # add a card to the deck\n",
    "\n",
    "    def __str__(self):  # print the deck\n",
    "        s = \"\"  # empty string\n",
    "        for i in range(len(self.cards)):  # for each card in the deck\n",
    "            # add the card to the string\n",
    "            s += i * \" \" + str(self.cards[i]) + \"\\n\"\n",
    "        return s\n",
    "\n",
    "    def shuffle(self):  # shuffle the deck\n",
    "        n_cards = len(self.cards)  # number of cards in the deck\n",
    "        for i in range(n_cards):  # for each card in the deck\n",
    "            # pick a random card to swap with\n",
    "            j = random.randrange(i, n_cards)\n",
    "            # swap the cards\n",
    "            self.cards[i], self.cards[j] = self.cards[j], self.cards[i]\n",
    "\n",
    "    def pop_card(self):\n",
    "        return self.cards.pop()\n",
    "    \n",
    "    def is_empty(self):\n",
    "        return len(self.cards) == 0\n",
    "    \n",
    "    def deal(self, players, n_cards = 52):\n",
    "        n_players = len(players) # number of players\n",
    "        for i in range(n_cards): # for each card\n",
    "            if self.is_empty(): # if the deck is empty\n",
    "                break # break out of the loop\n",
    "            card = self.pop_card() # take the top card\n",
    "            current_player = i % n_players # find the current player\n",
    "            players[current_player].add_card(card) # add the card to the player's hand"
   ]
  },
  {
   "cell_type": "markdown",
   "metadata": {},
   "source": [
    "### Write a method for `Hand` that prints the hand such that \"Hand John contains ...\" or \"Hand John is empty\"\n"
   ]
  },
  {
   "cell_type": "code",
   "execution_count": 68,
   "metadata": {},
   "outputs": [
    {
     "name": "stdout",
     "output_type": "stream",
     "text": [
      "Hand Kevin contains\n",
      "6 of Spades\n",
      " 10 of Clubs\n",
      "  7 of Diamonds\n",
      "   4 of Hearts\n",
      "    Jack of Hearts\n",
      "     3 of Clubs\n",
      "      8 of Hearts\n",
      "       3 of Diamonds\n",
      "        5 of Clubs\n",
      "         5 of Spades\n",
      "          10 of Hearts\n",
      "           4 of Spades\n",
      "            4 of Clubs\n",
      "             Queen of Spades\n",
      "              King of Spades\n",
      "               Jack of Clubs\n",
      "                King of Diamonds\n",
      "                 Ace of Spades\n",
      "\n",
      "Hand Murad contains\n",
      "2 of Spades\n",
      " 2 of Hearts\n",
      "  King of Hearts\n",
      "   King of Clubs\n",
      "    8 of Diamonds\n",
      "     Queen of Diamonds\n",
      "      9 of Diamonds\n",
      "       10 of Spades\n",
      "        3 of Spades\n",
      "         7 of Hearts\n",
      "          6 of Diamonds\n",
      "           5 of Diamonds\n",
      "            Queen of Hearts\n",
      "             8 of Spades\n",
      "              4 of Diamonds\n",
      "               9 of Spades\n",
      "                6 of Clubs\n",
      "\n",
      "Hand Hunter contains\n",
      "7 of Clubs\n",
      " Ace of Hearts\n",
      "  3 of Hearts\n",
      "   9 of Clubs\n",
      "    8 of Clubs\n",
      "     Ace of Clubs\n",
      "      Jack of Diamonds\n",
      "       6 of Hearts\n",
      "        2 of Clubs\n",
      "         2 of Diamonds\n",
      "          5 of Hearts\n",
      "           9 of Hearts\n",
      "            10 of Diamonds\n",
      "             Queen of Clubs\n",
      "              Ace of Diamonds\n",
      "               7 of Spades\n",
      "                Jack of Spades\n",
      "\n"
     ]
    }
   ],
   "source": [
    "class Hand(Deck):\n",
    "    def __init__(self, name=\"\"):\n",
    "        self.cards = []  # empty list\n",
    "        self.name = name  # name of the hand\n",
    "\n",
    "    def add_card(self, card):  # add a card to the hand\n",
    "        self.cards.append(card)  # add the card to the list\n",
    "\n",
    "    def __str__(self):  # print the hand\n",
    "        s = \"Hand \" + self.name  # start with the name of the hand\n",
    "        if self.is_empty():  # if the hand is empty\n",
    "            return s + \" is empty\\n\"  # return a string indicating that the hand is empty\n",
    "        s += \" contains\\n\" + Deck.__str__(self)  # add the cards in the hand\n",
    "        return s\n",
    "\n",
    "d = Deck()  # create a deck\n",
    "d.shuffle()  # shuffle the deck\n",
    "player1 = Hand(\"Kevin\") # create a hand for player 1 named Kevin\n",
    "player2 = Hand(\"Murad\") # create a hand for player 2 named Murad\n",
    "player3 = Hand(\"Hunter\") # create a hand for player 3 named Hunter\n",
    "players = [player1, player2, player3] # create a list of players\n",
    "d.deal(players, 52) # deal 52 cards to the players\n",
    "print(player1) # print player 1's hand\n",
    "print(player2) # print player 2's hand\n",
    "print(player3) # print player 3's hand"
   ]
  },
  {
   "cell_type": "markdown",
   "metadata": {},
   "source": [
    "### Write a `CardGame` class that creates a deck and shuffles it automatically.\n"
   ]
  },
  {
   "cell_type": "code",
   "execution_count": 69,
   "metadata": {},
   "outputs": [],
   "source": [
    "class CardGame:\n",
    "  def __init__(self):\n",
    "    self.deck = Deck() # create a deck\n",
    "    self.deck.shuffle() # shuffle the deck"
   ]
  },
  {
   "cell_type": "markdown",
   "metadata": {},
   "source": [
    "# Old Maid Hand Game (May Not Cover In Class)\n"
   ]
  },
  {
   "cell_type": "markdown",
   "metadata": {},
   "source": [
    "https://www.youtube.com/watch?v=2k1pHpGPMdc\n"
   ]
  },
  {
   "cell_type": "markdown",
   "metadata": {},
   "source": [
    "![alt text](../figures/cards.png)\n"
   ]
  },
  {
   "cell_type": "markdown",
   "metadata": {},
   "source": [
    "The object of Old Maid is to get rid of cards in your hand. You do this by matching cards by rank and color. For example, the 4 of Clubs matches the 4 of Spades since both suits are black. The Jack of Hearts matches the Jack of Diamonds since both are red.\n",
    "\n",
    "To begin the game, the Queen of Clubs is removed from the deck so that the Queen of Spades has no match. The fifty-one remaining cards are dealt to the players in a round robin. After the deal, all players match and discard as many cards as possible.\n"
   ]
  },
  {
   "cell_type": "markdown",
   "metadata": {},
   "source": [
    "### Define `OldMaidHand` class that requires some abilities beyond the general abilities of a Hand. Write a method called `remove_matches` and returns the number of matches.\n"
   ]
  },
  {
   "cell_type": "code",
   "execution_count": null,
   "metadata": {},
   "outputs": [],
   "source": []
  },
  {
   "cell_type": "markdown",
   "metadata": {},
   "source": [
    "### Demonstrate how to start a game and remove matches.\n"
   ]
  },
  {
   "cell_type": "code",
   "execution_count": null,
   "metadata": {},
   "outputs": [],
   "source": []
  },
  {
   "cell_type": "markdown",
   "metadata": {},
   "source": [
    "### Write a class `OldMaidGame` that inherits `CardGame` and has a method that removes all the matches in all hands. You can assume the class has `self.hands` attribute.\n"
   ]
  },
  {
   "cell_type": "code",
   "execution_count": null,
   "metadata": {},
   "outputs": [],
   "source": []
  },
  {
   "cell_type": "markdown",
   "metadata": {},
   "source": [
    "### Write a method `find_neighbor` that takes turn as an integer input and returns the index for the neighbor index.\n"
   ]
  },
  {
   "cell_type": "code",
   "execution_count": null,
   "metadata": {},
   "outputs": [],
   "source": []
  },
  {
   "cell_type": "markdown",
   "metadata": {},
   "source": [
    "### Write a method `play_one_turn` that takes an argument `turn` that indicates whose turn it is. The return value is the number of matches made during this turn.\n"
   ]
  },
  {
   "cell_type": "code",
   "execution_count": null,
   "metadata": {},
   "outputs": [],
   "source": []
  },
  {
   "cell_type": "markdown",
   "metadata": {},
   "source": [
    "### Write a method `print_hands` to print hands of all players.\n"
   ]
  },
  {
   "cell_type": "code",
   "execution_count": null,
   "metadata": {},
   "outputs": [],
   "source": []
  },
  {
   "cell_type": "markdown",
   "metadata": {},
   "source": [
    "### Write a method `play` that takes a list of names as an input;\n",
    "\n",
    "- removes Queen of Clubs,\n",
    "- makes a hand for each player\n",
    "- deals the cards; print \"cards have been dealt\"\n",
    "- prints hands\n",
    "- removes initial matches\n",
    "- prints hands\n",
    "- play until all 50 cards are matched\n",
    "- prints hands\n"
   ]
  },
  {
   "cell_type": "code",
   "execution_count": null,
   "metadata": {},
   "outputs": [],
   "source": []
  },
  {
   "cell_type": "code",
   "execution_count": null,
   "metadata": {},
   "outputs": [],
   "source": []
  },
  {
   "cell_type": "code",
   "execution_count": null,
   "metadata": {},
   "outputs": [],
   "source": []
  }
 ],
 "metadata": {
  "kernelspec": {
   "display_name": "Python 3.10.8 64-bit",
   "language": "python",
   "name": "python3"
  },
  "language_info": {
   "codemirror_mode": {
    "name": "ipython",
    "version": 3
   },
   "file_extension": ".py",
   "mimetype": "text/x-python",
   "name": "python",
   "nbconvert_exporter": "python",
   "pygments_lexer": "ipython3",
   "version": "3.10.8"
  },
  "vscode": {
   "interpreter": {
    "hash": "e7370f93d1d0cde622a1f8e1c04877d8463912d04d973331ad4851f04de6915a"
   }
  }
 },
 "nbformat": 4,
 "nbformat_minor": 2
}
